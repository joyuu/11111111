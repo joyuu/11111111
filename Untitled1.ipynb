{
  "nbformat": 4,
  "nbformat_minor": 0,
  "metadata": {
    "colab": {
      "name": "Untitled1.ipynb",
      "version": "0.3.2",
      "provenance": [],
      "collapsed_sections": [],
      "include_colab_link": true
    },
    "kernelspec": {
      "name": "python2",
      "display_name": "Python 2"
    }
  },
  "cells": [
    {
      "cell_type": "markdown",
      "metadata": {
        "id": "view-in-github",
        "colab_type": "text"
      },
      "source": [
        "<a href=\"https://colab.research.google.com/github/joyuu/data-science/blob/master/Untitled1.ipynb\" target=\"_parent\"><img src=\"https://colab.research.google.com/assets/colab-badge.svg\" alt=\"Open In Colab\"/></a>"
      ]
    },
    {
      "metadata": {
        "id": "IIL8rSOOWt_y",
        "colab_type": "code",
        "colab": {
          "base_uri": "https://localhost:8080/",
          "height": 34
        },
        "outputId": "6cb46144-417a-426c-a7d2-1dfd91feccbc"
      },
      "cell_type": "code",
      "source": [
        "print 0.62137* 42.195"
      ],
      "execution_count": 1,
      "outputs": [
        {
          "output_type": "stream",
          "text": [
            "26.21870715\n"
          ],
          "name": "stdout"
        }
      ]
    },
    {
      "metadata": {
        "id": "v9qyGYuxXF8k",
        "colab_type": "code",
        "colab": {}
      },
      "cell_type": "code",
      "source": [
        "my_height =160"
      ],
      "execution_count": 0,
      "outputs": []
    },
    {
      "metadata": {
        "id": "D7ZckIZZXMkC",
        "colab_type": "code",
        "colab": {
          "base_uri": "https://localhost:8080/",
          "height": 34
        },
        "outputId": "6a5584cf-ff6a-45ea-e085-2159b8ee7c1c"
      },
      "cell_type": "code",
      "source": [
        "print my_height"
      ],
      "execution_count": 3,
      "outputs": [
        {
          "output_type": "stream",
          "text": [
            "160\n"
          ],
          "name": "stdout"
        }
      ]
    },
    {
      "metadata": {
        "id": "cYfS2OnRXR5C",
        "colab_type": "code",
        "colab": {}
      },
      "cell_type": "code",
      "source": [
        "my_weight = 45"
      ],
      "execution_count": 0,
      "outputs": []
    },
    {
      "metadata": {
        "id": "cBgUmQQ9XPGi",
        "colab_type": "code",
        "colab": {
          "base_uri": "https://localhost:8080/",
          "height": 34
        },
        "outputId": "975c4668-6e76-466e-badf-3f7838e5fc42"
      },
      "cell_type": "code",
      "source": [
        "print my_weight"
      ],
      "execution_count": 53,
      "outputs": [
        {
          "output_type": "stream",
          "text": [
            "45\n"
          ],
          "name": "stdout"
        }
      ]
    },
    {
      "metadata": {
        "id": "Svr3XgGNYYjg",
        "colab_type": "code",
        "colab": {}
      },
      "cell_type": "code",
      "source": [
        "genre = \"SitCom\"\n",
        "seasons = 10\n",
        "episodes = 236\n",
        "stars = [\"Jennifer Aniston\", \"Courteney Cox\", \"Lisa Kudrow\",\n",
        "\"Matt LeBlanc\", \"Matthew Perry\", \"David Schwimmer\"]"
      ],
      "execution_count": 0,
      "outputs": []
    },
    {
      "metadata": {
        "id": "6UKotmqvZMUY",
        "colab_type": "code",
        "colab": {
          "base_uri": "https://localhost:8080/",
          "height": 34
        },
        "outputId": "e1f18fdd-30a6-4bb5-ab93-7c27137e5437"
      },
      "cell_type": "code",
      "source": [
        "characters = [\"Rachel Green\", \"Monica Geller\", \"Phoebe Buffay\", \"Matt LeBlanc\", \"Matthew Perry\", \"David Schwimmer\"]\n",
        "print characters[:3]"
      ],
      "execution_count": 25,
      "outputs": [
        {
          "output_type": "stream",
          "text": [
            "['Rachel Green', 'Monica Geller', 'Phoebe Buffay']\n"
          ],
          "name": "stdout"
        }
      ]
    },
    {
      "metadata": {
        "id": "aVe5dYLkZU8Z",
        "colab_type": "code",
        "colab": {
          "base_uri": "https://localhost:8080/",
          "height": 34
        },
        "outputId": "df126e77-c178-4943-9d06-50dd2522b975"
      },
      "cell_type": "code",
      "source": [
        "rgb_col_list = [\"red\", \"green\", \"blue\", \"green\", \"red\", \"blue\", \"green\", \"green\", \"red\", \"blue\"]\n",
        "rgb_col_set = rgb_col_list\n",
        "print (rgb_col_set)"
      ],
      "execution_count": 39,
      "outputs": [
        {
          "output_type": "stream",
          "text": [
            "['red', 'green', 'blue', 'green', 'red', 'blue', 'green', 'green', 'red', 'blue']\n"
          ],
          "name": "stdout"
        }
      ]
    },
    {
      "metadata": {
        "id": "oWAzRt0yiQDA",
        "colab_type": "code",
        "colab": {
          "base_uri": "https://localhost:8080/",
          "height": 199
        },
        "outputId": "afb61486-fa20-42bc-8ac1-249a87c490b4"
      },
      "cell_type": "code",
      "source": [
        "friends_dict = {\n",
        " \"genre\": \"sitcom\",\n",
        " \"seasons\": 10,\n",
        " \"episodes\": 236,\n",
        " \"starrings\": [\"Jennifer Aniston\", \"Courteney Cox\", \"Lisa Kudrow\", \"Matt LeBlanc\", \"Matthew Perry\", \"David Schwimmer\"]\n",
        "}\n",
        "print friends_dict[starrings][:4]"
      ],
      "execution_count": 58,
      "outputs": [
        {
          "output_type": "error",
          "ename": "NameError",
          "evalue": "ignored",
          "traceback": [
            "\u001b[0;31m\u001b[0m",
            "\u001b[0;31mNameError\u001b[0mTraceback (most recent call last)",
            "\u001b[0;32m<ipython-input-58-d04b5d06b33f>\u001b[0m in \u001b[0;36m<module>\u001b[0;34m()\u001b[0m\n\u001b[1;32m      5\u001b[0m  \u001b[0;34m\"starrings\"\u001b[0m\u001b[0;34m:\u001b[0m \u001b[0;34m[\u001b[0m\u001b[0;34m\"Jennifer Aniston\"\u001b[0m\u001b[0;34m,\u001b[0m \u001b[0;34m\"Courteney Cox\"\u001b[0m\u001b[0;34m,\u001b[0m \u001b[0;34m\"Lisa Kudrow\"\u001b[0m\u001b[0;34m,\u001b[0m \u001b[0;34m\"Matt LeBlanc\"\u001b[0m\u001b[0;34m,\u001b[0m \u001b[0;34m\"Matthew Perry\"\u001b[0m\u001b[0;34m,\u001b[0m \u001b[0;34m\"David Schwimmer\"\u001b[0m\u001b[0;34m]\u001b[0m\u001b[0;34m\u001b[0m\u001b[0m\n\u001b[1;32m      6\u001b[0m }\n\u001b[0;32m----> 7\u001b[0;31m \u001b[0;32mprint\u001b[0m \u001b[0mfriends_dict\u001b[0m\u001b[0;34m[\u001b[0m\u001b[0mstarrings\u001b[0m\u001b[0;34m]\u001b[0m\u001b[0;34m[\u001b[0m\u001b[0;34m:\u001b[0m\u001b[0;36m4\u001b[0m\u001b[0;34m]\u001b[0m\u001b[0;34m\u001b[0m\u001b[0m\n\u001b[0m",
            "\u001b[0;31mNameError\u001b[0m: name 'starrings' is not defined"
          ]
        }
      ]
    },
    {
      "metadata": {
        "id": "R1RRZ5G1kmRW",
        "colab_type": "code",
        "colab": {}
      },
      "cell_type": "code",
      "source": [
        ""
      ],
      "execution_count": 0,
      "outputs": []
    }
  ]
}